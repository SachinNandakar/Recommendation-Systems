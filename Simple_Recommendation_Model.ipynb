{
 "cells": [
  {
   "cell_type": "markdown",
   "id": "smooth-result",
   "metadata": {},
   "source": [
    "## Simple Recommender Model"
   ]
  },
  {
   "cell_type": "markdown",
   "id": "afraid-shark",
   "metadata": {},
   "source": [
    "The simple recommenders are basic systems that recommend the top items based on a certain metric or score. Here, we will build a simple recommendation model for movie database."
   ]
  },
  {
   "cell_type": "markdown",
   "id": "fresh-fundamentals",
   "metadata": {},
   "source": [
    "Dataset:\n",
    "The dataset files contain data about 45,000+ movies listed.\n",
    "This dataset captures some features like cast, crew, plot keywords, budget, revenue, posters,   release dates, languages, production companies, countries, TMDB vote counts, and vote averages."
   ]
  },
  {
   "cell_type": "code",
   "execution_count": 67,
   "id": "celtic-hometown",
   "metadata": {},
   "outputs": [],
   "source": [
    "import pandas as pd\n",
    "\n",
    "#Load the dataset\n",
    "md = pd.read_csv(\"movies_metadata.csv\", engine='python')\n",
    "\n",
    "# to avoid the memory errors, use the parameter engine='python' or low_memory=False"
   ]
  },
  {
   "cell_type": "code",
   "execution_count": 85,
   "id": "elect-research",
   "metadata": {},
   "outputs": [],
   "source": [
    "rows = len(md.axes[0])\n",
    "cols = len(md.axes[1])\n",
    "print(\"Number of Rows: \" + str(rows))\n",
    "print(\"Number of Columns: \" + str(cols))\n",
    "\n",
    "md.shape"
   ]
  },
  {
   "cell_type": "code",
   "execution_count": 86,
   "id": "supposed-suspect",
   "metadata": {},
   "outputs": [],
   "source": [
    "md.head(5)"
   ]
  },
  {
   "cell_type": "code",
   "execution_count": 87,
   "id": "painted-branch",
   "metadata": {},
   "outputs": [],
   "source": [
    "#Describe some details of the Dataset\n",
    "perc =[.20, .40, .60, .80]\n",
    "  \n",
    "include =['object', 'float', 'int']\n",
    "\n",
    "# calling describe method\n",
    "md.describe(percentiles = perc, include = include)"
   ]
  },
  {
   "cell_type": "code",
   "execution_count": 88,
   "id": "blank-beauty",
   "metadata": {},
   "outputs": [],
   "source": [
    "md.info()"
   ]
  },
  {
   "cell_type": "markdown",
   "id": "appreciated-reset",
   "metadata": {},
   "source": [
    "The prime parameters considered for the recommendation:\n",
    "\n",
    "Popularity\n",
    "Vote_Average\n",
    "Vote_Count"
   ]
  },
  {
   "cell_type": "code",
   "execution_count": 89,
   "id": "editorial-worst",
   "metadata": {},
   "outputs": [],
   "source": [
    "# Convert the object type of popularity parameter into numerical \n",
    "md['popularity'] = pd.to_numeric(md['popularity'], errors = 'coerce')\n",
    "\n",
    "# Summarize the fields:\n",
    "md[[\"popularity\",\"vote_average\",\"vote_count\"]].describe()"
   ]
  },
  {
   "cell_type": "code",
   "execution_count": 90,
   "id": "chronic-campaign",
   "metadata": {},
   "outputs": [],
   "source": [
    "# Calculate the minimum number of votes required to be in the chart, min_vote above 90% quartile\n",
    "min_vote = md['vote_count'].quantile(0.90)\n",
    "print(min_vote)"
   ]
  },
  {
   "cell_type": "code",
   "execution_count": 91,
   "id": "eight-claim",
   "metadata": {},
   "outputs": [],
   "source": [
    "mv_md = md.loc[(md.vote_count>= min_vote)]\n",
    "mv_md.shape"
   ]
  },
  {
   "cell_type": "markdown",
   "id": "subject-rebate",
   "metadata": {},
   "source": [
    "Now, calculate the weighted ranking using:\n",
    "    \n",
    "    WeightedRating(WR)=(v/v+m)*R + (m/v+m)*C\n",
    "    \n",
    "    In the above equation,\n",
    "\n",
    "    v is the number of votes for the movie;\n",
    "    m is the minimum votes required to be listed in the chart;\n",
    "    R is the average rating of the movie;\n",
    "    C is the mean vote across the whole report."
   ]
  },
  {
   "cell_type": "code",
   "execution_count": 80,
   "id": "fresh-papua",
   "metadata": {},
   "outputs": [],
   "source": [
    "m = min_vote\n",
    "C = md['vote_average'].mean()\n",
    "\n",
    "def weighted_rating(x, m=m, C=C):\n",
    "    v = x['vote_count']\n",
    "    R = x['vote_average']\n",
    "    # Calculation based on the formula\n",
    "    return (v/(v+m) * R) + (m/(m+v) * C)\n"
   ]
  },
  {
   "cell_type": "code",
   "execution_count": 95,
   "id": "graphic-navigation",
   "metadata": {},
   "outputs": [],
   "source": [
    "mv_md['score'] = mv_md.apply(weighted_rating, axis=1)"
   ]
  },
  {
   "cell_type": "code",
   "execution_count": 94,
   "id": "ranking-status",
   "metadata": {},
   "outputs": [],
   "source": [
    "#Sort movies based on score calculated above\n",
    "mv_md = mv_md.sort_values('score', ascending=False)\n",
    "\n",
    "#Print the top 10 movies\n",
    "mv_md[['title', 'vote_count', 'vote_average', 'score']].head(10)"
   ]
  },
  {
   "cell_type": "markdown",
   "id": "governing-organ",
   "metadata": {},
   "source": [
    "The above list of 10 movies are recommended & will be passed to the application if any additional information needed."
   ]
  }
 ],
 "metadata": {
  "kernelspec": {
   "display_name": "Python 3",
   "language": "python",
   "name": "python3"
  },
  "language_info": {
   "codemirror_mode": {
    "name": "ipython",
    "version": 3
   },
   "file_extension": ".py",
   "mimetype": "text/x-python",
   "name": "python",
   "nbconvert_exporter": "python",
   "pygments_lexer": "ipython3",
   "version": "3.8.5"
  }
 },
 "nbformat": 4,
 "nbformat_minor": 5
}
