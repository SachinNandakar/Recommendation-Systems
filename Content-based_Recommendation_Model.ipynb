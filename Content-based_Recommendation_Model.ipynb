{
 "cells": [
  {
   "cell_type": "markdown",
   "id": "precise-estimate",
   "metadata": {},
   "source": [
    "## CONTENT-BASED RECOMMENDATION MODEL"
   ]
  },
  {
   "cell_type": "markdown",
   "id": "respiratory-prerequisite",
   "metadata": {},
   "source": [
    "In this coding scheme, will learn how to build a recommendation model that suggests movies that are similar to a particular movie based upon some content provided.\n",
    "\n",
    "In the dataset provided, there is a content in the 'overview' feature, which is explaining about the movie in textual formatted data in about 20-to-30 words.\n",
    "\n",
    "Here, the main job is to process the overview content of the movies using 'word vectors' method. Based upon the meaning created by word vectors find the similar ones and can be used as basis for recommendation for given movie.\n",
    "\n",
    "In simple words, we calculate the similarity matrix too & which will help us to know the very similar movies for a given input movie title."
   ]
  },
  {
   "cell_type": "code",
   "execution_count": null,
   "id": "internal-management",
   "metadata": {},
   "outputs": [],
   "source": [
    "# First explore the 'overview' feature of dataset\n",
    "import pandas as pd\n",
    "\n",
    "#Load the dataset\n",
    "md = pd.read_csv(\"movies_metadata.csv\", engine='python')\n",
    "\n",
    "# Lets have a look on the 'overview' feature\n",
    "md['overview'].head()"
   ]
  },
  {
   "cell_type": "markdown",
   "id": "proper-foundation",
   "metadata": {},
   "source": [
    "Since the output is textual content, The problem at hand is a Natural Language Processing problem. Hence you need to extract some kind of features from the above text data before you can compute the similarity and/or dissimilarity between them.\n",
    "\n",
    "We will consider 'word vectors' technique to represnt in vectorised format. These vectors carry a semantic meaning with it. To do this word vectrization, will use TF-IDF (Term Frequency - Inverse Document Frequency) vectors for each document.\n",
    "TF-IDF is done to reduce the importance of words that frequently occur in plot overviews and, therefore, their significance in computing the final similarity score.\n",
    "\n",
    "The scikit-learn gives you a built-in TfIdfVectorizer class that produces the TF-IDF matrix on the data."
   ]
  },
  {
   "cell_type": "code",
   "execution_count": null,
   "id": "innovative-plymouth",
   "metadata": {},
   "outputs": [],
   "source": [
    "#Import TfIdfVectorizer\n",
    "from sklearn.feature_extraction.text import TfidfVectorizer\n",
    "\n",
    "#Define a TF-IDF Vectorizer Object. Remove all english stop words\n",
    "tfidf = TfidfVectorizer(stop_words='english')\n",
    "\n",
    "#Replace NaN with an empty string\n",
    "md['overview'] = md['overview'].fillna('')\n",
    "\n",
    "#Construct the required TF-IDF matrix by fitting and transforming the data\n",
    "tfidf_matrix = tfidf.fit_transform(md['overview'])\n",
    "\n",
    "#Output the shape of tfidf_matrix\n",
    "tfidf_matrix.shape"
   ]
  },
  {
   "cell_type": "code",
   "execution_count": null,
   "id": "known-given",
   "metadata": {},
   "outputs": [],
   "source": [
    "From this output, we can observe that with 45000+ dataset more than 75000 different words.\n",
    "\n",
    "Now, we must use any similarity matrices such as Eculidean, manhattan, Pearson, Cosine similarity.\n",
    "\n",
    "lets use linear_kernel() instead of cosine_similarities() since it is faster & similar."
   ]
  },
  {
   "cell_type": "code",
   "execution_count": 15,
   "id": "simple-husband",
   "metadata": {},
   "outputs": [],
   "source": [
    "from sklearn.metrics.pairwise import linear_kernel\n",
    "\n",
    "# Compute the cosine similarity matrix\n",
    "cosine_sim_mat = linear_kernel(tfidf_matrix, tfidf_matrix, dense_output=True)\n",
    "cosine_sim_mat.shape"
   ]
  },
  {
   "cell_type": "markdown",
   "id": "nutritional-carrier",
   "metadata": {},
   "source": [
    "Now we define a function which takes a movie title as input and ouptputs a list of 10-20 most similar movies.\n",
    "For this, you need a mechanism to identify the index of a movie in your metadata DataFrame, given its title."
   ]
  },
  {
   "cell_type": "code",
   "execution_count": null,
   "id": "cardiovascular-supply",
   "metadata": {},
   "outputs": [],
   "source": [
    "indices = pd.Series(md.index, index=md['title']).drop_duplicates()\n",
    "\n",
    "indices[:15]"
   ]
  },
  {
   "cell_type": "markdown",
   "id": "allied-destruction",
   "metadata": {},
   "source": [
    "Now, define the recommendation function. \n",
    "These are the following steps:\n",
    "\n",
    "Get the index of the movie given its title.\n",
    "\n",
    "Get the list of cosine similarity scores for that particular movie with all movies. Convert it into a list of tuples where the first element is its position, and the second is the similarity score.\n",
    "\n",
    "Sort the aforementioned list of tuples based on the similarity scores; that is, the second element.\n",
    "\n",
    "Get the top 10-20 elements of this list. Ignore the first element as it refers to self (the movie most similar to a particular movie is the movie itself).\n",
    "\n",
    "Return the titles corresponding to the indices of the top elements.\n"
   ]
  },
  {
   "cell_type": "code",
   "execution_count": null,
   "id": "interior-phone",
   "metadata": {},
   "outputs": [],
   "source": [
    "def get_recommendations(title, cosine_sim_mat=cosine_sim_mat):\n",
    "    # Get the index of the movie that matches the title\n",
    "    idx = indices[title]\n",
    "\n",
    "    # Get the pairwsie similarity scores of all movies with that movie\n",
    "    sim_scores = list(enumerate(cosine_sim_mat[idx]))\n",
    "\n",
    "    # Sort the movies based on the similarity scores\n",
    "    sim_scores = sorted(sim_scores, key=lambda x: x[1], reverse=True)\n",
    "\n",
    "    # Get the scores of the 10 most similar movies\n",
    "    sim_scores = sim_scores[1:11]\n",
    "\n",
    "    # Get the movie indices\n",
    "    movie_indices = [i[0] for i in sim_scores]\n",
    "\n",
    "    # Return the top 10 most similar movies\n",
    "    return md['title'].iloc[movie_indices]\n"
   ]
  },
  {
   "cell_type": "markdown",
   "id": "palestinian-antique",
   "metadata": {},
   "source": [
    "Now we can use the function get \" get_recommendations(title) \" to get the recommended movies list for the given movie title"
   ]
  },
  {
   "cell_type": "code",
   "execution_count": null,
   "id": "egyptian-infection",
   "metadata": {},
   "outputs": [],
   "source": [
    "# Get the list of recommendation for the movie \" Toy Story \"\n",
    "get_recommendations(\"Toy Story\")"
   ]
  }
 ],
 "metadata": {
  "kernelspec": {
   "display_name": "Python 3",
   "language": "python",
   "name": "python3"
  },
  "language_info": {
   "codemirror_mode": {
    "name": "ipython",
    "version": 3
   },
   "file_extension": ".py",
   "mimetype": "text/x-python",
   "name": "python",
   "nbconvert_exporter": "python",
   "pygments_lexer": "ipython3",
   "version": "3.8.5"
  }
 },
 "nbformat": 4,
 "nbformat_minor": 5
}
